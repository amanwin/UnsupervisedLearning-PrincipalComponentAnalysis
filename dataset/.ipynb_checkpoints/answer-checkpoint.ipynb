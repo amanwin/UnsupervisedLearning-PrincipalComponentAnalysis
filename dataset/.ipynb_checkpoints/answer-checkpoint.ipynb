{
 "cells": [
  {
   "cell_type": "code",
   "execution_count": 50,
   "metadata": {},
   "outputs": [
    {
     "data": {
      "text/plain": [
       "array([[ 0.5 ,  2.5 ,  0.75,  0.25],\n",
       "       [-0.5 ,  0.5 , -0.25,  1.25],\n",
       "       [-0.5 , -3.  ,  0.5 , -0.  ],\n",
       "       [ 2.5 ,  2.  ,  0.5 , -1.  ]])"
      ]
     },
     "execution_count": 50,
     "metadata": {},
     "output_type": "execute_result"
    }
   ],
   "source": [
    "import numpy as np\n",
    "\n",
    "#Create B1\n",
    "B1=np.array([[1,3,4,2], [3,2,4,1], [1,2,3,4], [3,2,1,1]])\n",
    "#take its transpose so that columns are vectors of B1\n",
    "B1=B1.T\n",
    "\n",
    "\n",
    "##### We notice that first column of the matrix B1 is the first vector of Basis B1 and so on\n",
    "\n",
    "#similarly create B2\n",
    "B2=np.array([[1,1,2,3],[3,3,2,1],[1,2,2,3],[1,2,2,1]])\n",
    "#note that we didnt take transpose this time\n",
    "\n",
    "B2inB1=np.array([])\n",
    "for b in B2: \n",
    "    #the reason we didnt take transpose this time is because we wanted to run it through a loop\n",
    "    #Matrix M^-1 is obtained by writing basis vectors of B2 in B1 as columns of M\n",
    "    #this for loop will calculate Basis vectors of B2 in B1\n",
    "    \n",
    "    \n",
    "    #Here vectors of B2 are in standard basis (i,j,k,l) so to find its representation in B1, we simply take inverse \n",
    "    #of matrix B1 and multiply it by the vector.\n",
    "    temp=(np.linalg.inv(B1) @ np.array(b).T)\n",
    "    #append it in martix B2inB1\n",
    "    B2inB1=np.append(B2inB1,temp, axis=0)\n",
    "\n",
    "#take transpose of the matrix as stated above   \n",
    "B2inB1=B2inB1.reshape(4,4).T\n",
    "\n",
    "##### Thus our required M will just be inverse of B2inB1\n",
    "\n",
    "M=np.linalg.inv(B2inB1).round(2)\n",
    "M"
   ]
  }
 ],
 "metadata": {
  "kernelspec": {
   "display_name": "Python 3",
   "language": "python",
   "name": "python3"
  },
  "language_info": {
   "codemirror_mode": {
    "name": "ipython",
    "version": 3
   },
   "file_extension": ".py",
   "mimetype": "text/x-python",
   "name": "python",
   "nbconvert_exporter": "python",
   "pygments_lexer": "ipython3",
   "version": "3.7.4"
  }
 },
 "nbformat": 4,
 "nbformat_minor": 2
}
